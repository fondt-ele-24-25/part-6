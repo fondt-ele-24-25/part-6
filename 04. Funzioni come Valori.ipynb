{
 "cells": [
  {
   "cell_type": "markdown",
   "metadata": {
    "slideshow": {
     "slide_type": "slide"
    }
   },
   "source": [
    "# Funzioni come Valori"
   ]
  },
  {
   "cell_type": "markdown",
   "metadata": {
    "slideshow": {
     "slide_type": "subslide"
    }
   },
   "source": [
    "## Un Esempio di Motivazione: Ordinamento in Python\n",
    "\n",
    "**In diversi problemi pratici è utile poter ordinare una collezione**\n",
    "\n",
    "A questo scopo, Python fornisce la funzione `sorted`"
   ]
  },
  {
   "cell_type": "code",
   "execution_count": 7,
   "metadata": {},
   "outputs": [
    {
     "name": "stdout",
     "output_type": "stream",
     "text": [
      "[1, 2, 3, 4, 5]\n"
     ]
    }
   ],
   "source": [
    "l = [3, 1, 4, 2, 5]\n",
    "print(sorted(l))"
   ]
  },
  {
   "cell_type": "markdown",
   "metadata": {},
   "source": [
    "* Data una collezione, `sorted` restituisce una _lista ordinata_\n",
    "\n",
    "**Funziona con diversi tipi di dato**\n",
    "\n",
    "...Purché i tipi considerati supportino l'operatore \"`<=`\""
   ]
  },
  {
   "cell_type": "code",
   "execution_count": 12,
   "metadata": {},
   "outputs": [
    {
     "name": "stdout",
     "output_type": "stream",
     "text": [
      "False True\n",
      "['Antonio', 'Beatrice', 'Carlo']\n"
     ]
    }
   ],
   "source": [
    "print('Beatrice' <= 'Antonio', 'Antonio' <= 'Beatrice')\n",
    "l = ['Beatrice', 'Carlo', 'Antonio']\n",
    "print(sorted(l))"
   ]
  },
  {
   "cell_type": "markdown",
   "metadata": {
    "slideshow": {
     "slide_type": "subslide"
    }
   },
   "source": [
    "## Un Esempio di Motivazione: Ordinamento in Python\n",
    "\n",
    "**Si può invertire l'ordinamento con il parametro `reverse`**"
   ]
  },
  {
   "cell_type": "code",
   "execution_count": 14,
   "metadata": {},
   "outputs": [
    {
     "name": "stdout",
     "output_type": "stream",
     "text": [
      "[5, 4, 3, 2, 1]\n"
     ]
    }
   ],
   "source": [
    "l = [3, 1, 4, 2, 5]\n",
    "print(sorted(l, reverse=True))"
   ]
  },
  {
   "cell_type": "markdown",
   "metadata": {},
   "source": [
    "**Funziona con qualunque collezione o generatore**"
   ]
  },
  {
   "cell_type": "code",
   "execution_count": 15,
   "metadata": {},
   "outputs": [
    {
     "name": "stdout",
     "output_type": "stream",
     "text": [
      "[1, 2, 6, 9]\n",
      "[9, 8, 7, 6, 5, 4, 3, 2, 1]\n",
      "['Luisa', 'Paolo', 'Walter']\n"
     ]
    }
   ],
   "source": [
    "print(sorted({6, 2, 1, 9}))\n",
    "print(sorted(range(1, 10), reverse=True))\n",
    "print(sorted({'Walter': 30, 'Luisa': 28, 'Paolo': 27}))"
   ]
  },
  {
   "cell_type": "markdown",
   "metadata": {},
   "source": [
    "* Nel caso dei dizionari, si considerano solo le _chiavi_\n",
    "* ...Che vengono ordinate secondo le normale relazione d'ordine"
   ]
  },
  {
   "cell_type": "markdown",
   "metadata": {
    "slideshow": {
     "slide_type": "subslide"
    }
   },
   "source": [
    "## Un Esempio di Motivazione: Ordinamento in Python\n",
    "\n",
    "**E se volessimo ordinare un dizionario per valore?**\n",
    "\n",
    "Per esempio, potremmo volere ordinare questo dizionario per valore (voto):"
   ]
  },
  {
   "cell_type": "code",
   "execution_count": 21,
   "metadata": {},
   "outputs": [],
   "source": [
    "voti = {'Walter': 30, 'Luisa': 28, 'Paolo': 27}\n",
    "\n",
    "def voto_di(nome):\n",
    "    return voti[nome]"
   ]
  },
  {
   "cell_type": "markdown",
   "metadata": {},
   "source": [
    "**Un possibile approccio:**\n",
    "\n",
    "* Durante l'ordinamento, al momento di confrontare due chiavi\n",
    "* ...Recuperiamo il valore (voto) e lo usiamo per fare il confronto\n",
    "\n",
    "**Più in dettaglio:**\n",
    "\n",
    "* Invece di fare il confronto $k_i \\leq k_j$\n",
    "* ...Facciamo il confronto $d[k_i] \\leq d[k_j]$"
   ]
  },
  {
   "cell_type": "markdown",
   "metadata": {
    "slideshow": {
     "slide_type": "subslide"
    }
   },
   "source": [
    "## Un Esempio di Motivazione: Ordinamento in Python\n",
    "\n",
    "**Potremmo rendere le cose un po' più generali:**\n",
    "\n",
    "* Dati due elementi di una collezione $x_i$ e $x_j$\n",
    "* Invece di valutare $x_i \\leq x_j$ valutiamo invece $f(x_i) \\leq f(x_j)$\n",
    "\n",
    "Dove la funzione $f$ è da specificare\n",
    "\n",
    "**In questo modo**\n",
    "\n",
    "* Il metodo funziona per qualunque collezione (non solo i dizionari)\n",
    "* Possiamo cambiare il criterio di ordinamento semplicemente cambindo $f$\n",
    "\n",
    "**La difficoltà è che $f(x)$ va valutata _durante_ l'ordinamento**\n",
    "\n",
    "* ...Mentre quando chiamiamo una funzione (come `sort`)\n",
    "* ...I parametri sono valutati _prima_ della chiamata"
   ]
  },
  {
   "cell_type": "markdown",
   "metadata": {
    "slideshow": {
     "slide_type": "subslide"
    }
   },
   "source": [
    "## Funzioni Come Dati\n",
    "\n",
    "**Per poter procedere, al momento di chiamare `sorted`**\n",
    "\n",
    "* ...Dovremmo poter passare la funzione $f$ _senza eseguirla_\n",
    "* I.e., dovremmo passare la funzione stessa _come se fosse un dato_\n",
    "\n",
    "Ad effettuare l'esecuzione sarò poi il codice di `sorted`\n",
    "\n",
    "**La cosa interessante è che _si può fare_**"
   ]
  },
  {
   "cell_type": "code",
   "execution_count": 22,
   "metadata": {},
   "outputs": [
    {
     "name": "stdout",
     "output_type": "stream",
     "text": [
      "['Paolo', 'Luisa', 'Walter']\n"
     ]
    }
   ],
   "source": [
    "voti = {'Walter': 30, 'Luisa': 28, 'Paolo': 27}\n",
    "\n",
    "def get_voto(k):\n",
    "    return voti[k]\n",
    "\n",
    "print(sorted(voti, key=get_voto))"
   ]
  },
  {
   "cell_type": "markdown",
   "metadata": {
    "slideshow": {
     "slide_type": "subslide"
    }
   },
   "source": [
    "## Funzioni Come Dati\n",
    "\n",
    "**Consideriamo di nuovo il codice appena visto**"
   ]
  },
  {
   "cell_type": "code",
   "execution_count": 23,
   "metadata": {},
   "outputs": [
    {
     "data": {
      "text/plain": [
       "<function __main__.get_voto(k)>"
      ]
     },
     "execution_count": 23,
     "metadata": {},
     "output_type": "execute_result"
    }
   ],
   "source": [
    "voti = {'Walter': 30, 'Luisa': 28, 'Paolo': 27}\n",
    "\n",
    "def get_voto(k):\n",
    "    return voti[k]\n",
    "\n",
    "get_voto"
   ]
  },
  {
   "cell_type": "markdown",
   "metadata": {},
   "source": [
    "Quando in Python definiamo una funzione\n",
    "\n",
    "* Stiamo in realtà introducento una _variabile_\n",
    "* ...Che contiene uno speciale tipo di dato (appunto, una funzione)\n",
    "* Usando `get_voto`, facciamo riferimento al dato contenuto nella variabile\n",
    "* ...Esattamente come con tutte le variabili"
   ]
  },
  {
   "cell_type": "markdown",
   "metadata": {
    "slideshow": {
     "slide_type": "subslide"
    }
   },
   "source": [
    "## Funzioni Come Dati\n",
    "\n",
    "**Consideriamo di nuovo il codice appena visto**"
   ]
  },
  {
   "cell_type": "code",
   "execution_count": 24,
   "metadata": {},
   "outputs": [
    {
     "data": {
      "text/plain": [
       "28"
      ]
     },
     "execution_count": 24,
     "metadata": {},
     "output_type": "execute_result"
    }
   ],
   "source": [
    "voti = {'Walter': 30, 'Luisa': 28, 'Paolo': 27}\n",
    "\n",
    "def get_voto(k):\n",
    "    return voti[k]\n",
    "\n",
    "get_voto('Luisa')"
   ]
  },
  {
   "cell_type": "markdown",
   "metadata": {},
   "source": [
    "* Solo aggiungendo le parentesi tonde\n",
    "* ...La funzione viene effettivamente eseguita\n",
    "\n",
    "**La notazione `()` si chiama anche _operatore di chiamata a funzione_**"
   ]
  },
  {
   "cell_type": "markdown",
   "metadata": {
    "slideshow": {
     "slide_type": "subslide"
    }
   },
   "source": [
    "## Funzioni Come Dati\n",
    "\n",
    "**Consideriamo di nuovo il codice appena visto**"
   ]
  },
  {
   "cell_type": "code",
   "execution_count": 25,
   "metadata": {},
   "outputs": [
    {
     "data": {
      "text/plain": [
       "27"
      ]
     },
     "execution_count": 25,
     "metadata": {},
     "output_type": "execute_result"
    }
   ],
   "source": [
    "voti = {'Walter': 30, 'Luisa': 28, 'Paolo': 27}\n",
    "\n",
    "def get_voto(k):\n",
    "    return voti[k]\n",
    "\n",
    "f=get_voto\n",
    "f('Paolo')"
   ]
  },
  {
   "cell_type": "markdown",
   "metadata": {},
   "source": [
    "In effetti, si può anche assegnare una funzione ad una variabile\n",
    "\n",
    "* In questo caso, nella variabile `f` inseriamo `get_voto`\n",
    "* ...Così che chiamando `f` chiamiamo `get_voto`"
   ]
  },
  {
   "cell_type": "markdown",
   "metadata": {
    "slideshow": {
     "slide_type": "subslide"
    }
   },
   "source": [
    "## Funzioni Come Dati\n",
    "\n",
    "**Consideriamo di nuovo il codice appena visto**"
   ]
  },
  {
   "cell_type": "code",
   "execution_count": 26,
   "metadata": {},
   "outputs": [
    {
     "name": "stdout",
     "output_type": "stream",
     "text": [
      "['Paolo', 'Luisa', 'Walter']\n"
     ]
    }
   ],
   "source": [
    "voti = {'Walter': 30, 'Luisa': 28, 'Paolo': 27}\n",
    "\n",
    "def get_voto(k):\n",
    "    return voti[k]\n",
    "\n",
    "print(sorted(voti, key=get_voto))"
   ]
  },
  {
   "cell_type": "markdown",
   "metadata": {},
   "source": [
    "* Il parametro `key` di `sorted` è pensato per ricevere in ingresso una funzione\n",
    "* ...Che viene chiamata in fase di ordinamento per effettuare i confronti\n",
    "\n",
    "Questo significa che possiamo passare `get_voto` come valore per `key`!"
   ]
  },
  {
   "cell_type": "markdown",
   "metadata": {
    "slideshow": {
     "slide_type": "subslide"
    }
   },
   "source": [
    "## Funzioni Come Dati\n",
    "\n",
    "**Vediamo come usare una funzione passata come dato**"
   ]
  },
  {
   "cell_type": "code",
   "execution_count": 31,
   "metadata": {},
   "outputs": [
    {
     "name": "stdout",
     "output_type": "stream",
     "text": [
      "4\n",
      "8\n",
      "10\n"
     ]
    }
   ],
   "source": [
    "l = [2, 4, 5]\n",
    "\n",
    "def doppio(v):\n",
    "    return 2*v\n",
    "\n",
    "def stampa(l, f):\n",
    "    for v in l:\n",
    "        print(f(v))\n",
    "\n",
    "stampa(l, f=doppio)"
   ]
  },
  {
   "cell_type": "markdown",
   "metadata": {},
   "source": [
    "* Durante la chiamata nella variable `f`\n",
    "* Viene inserita la funzione `doppio`\n",
    "* Nel codice di `stampa`, chiamando `f` chiamiamo in effetti `doppio`"
   ]
  }
 ],
 "metadata": {
  "celltoolbar": "Slideshow",
  "kernelspec": {
   "display_name": "Python 3 (ipykernel)",
   "language": "python",
   "name": "python3"
  },
  "language_info": {
   "codemirror_mode": {
    "name": "ipython",
    "version": 3
   },
   "file_extension": ".py",
   "mimetype": "text/x-python",
   "name": "python",
   "nbconvert_exporter": "python",
   "pygments_lexer": "ipython3",
   "version": "3.11.11"
  },
  "rise": {
   "center": false,
   "enable_chalkboard": true,
   "transition": "fade"
  }
 },
 "nbformat": 4,
 "nbformat_minor": 4
}
