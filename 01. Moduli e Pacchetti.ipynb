{
 "cells": [
  {
   "cell_type": "markdown",
   "metadata": {
    "slideshow": {
     "slide_type": "slide"
    }
   },
   "source": [
    "# Moduli e Pacchetti"
   ]
  },
  {
   "cell_type": "markdown",
   "metadata": {
    "slideshow": {
     "slide_type": "subslide"
    }
   },
   "source": [
    "## Le Funzioni Finora\n",
    "\n",
    "**La funzioni forniscono una serie di _vantaggi significativi_**\n",
    "\n",
    "* Permettono di _astrarre un algoritmo_\n",
    "  - ...E così di decomporre un problema complesso in problemi più semplici\n",
    "* Rendono il codice più _ordinato_\n",
    "* Rendono il codice più _facile da mantenere_\n",
    "* Rendono il codice più _riutilizzabile_\n",
    "\n",
    "Hanno però anche un grosso limite:\n",
    "\n",
    "**Con le fuzioni, non possiamo condividere codice tra \"notebook\" diversi**\n",
    "\n",
    "* Per farlo, dobbiamo ancora copiare ed incollare il codice\n",
    "* ...Con tutti gli svantaggi già discussi"
   ]
  },
  {
   "cell_type": "markdown",
   "metadata": {
    "slideshow": {
     "slide_type": "subslide"
    }
   },
   "source": [
    "## Moduli\n",
    "\n",
    "**Una soluzione semplice: spostare le funzioni _in un altro file_**\n",
    "\n",
    "In questo modo:\n",
    "\n",
    "* Diversi notebook possono fare riferimento allo _stesso gruppo di funzioni_\n",
    "* Una modifica ad una funzione ha effetto su _tutte le sue chiamate_\n",
    "* Possiamo definire _diversi gruppi di funzioni_, rendendo il codice più ordinato\n",
    "\n",
    "Python permette questo risultato attraverso i moduli\n",
    "\n",
    "<br/>\n",
    "\n",
    "**Un _modulo_ in Python**\n",
    "\n",
    "* Rappresenta un contenitore di funzioni e variabili\n",
    "  - ...E di altri oggetti che incontremo nel tempo\n",
    "* È implementato com un _file di testo_ con estensione `.py`"
   ]
  },
  {
   "cell_type": "markdown",
   "metadata": {
    "slideshow": {
     "slide_type": "subslide"
    }
   },
   "source": [
    "## Definire ed Utilizzare Moduli\n",
    "\n",
    "**Vediamo come definire in un modulo la funzione `potenza`:**"
   ]
  },
  {
   "cell_type": "code",
   "execution_count": 1,
   "metadata": {},
   "outputs": [
    {
     "name": "stdout",
     "output_type": "stream",
     "text": [
      "16\n"
     ]
    }
   ],
   "source": [
    "def potenza(a, b):\n",
    "    return a**b\n",
    "\n",
    "print(potenza(2, 4))"
   ]
  },
  {
   "cell_type": "markdown",
   "metadata": {},
   "source": [
    "**Nella cartella corrente _va creato un file di testo_ con estensione `.py`**\n",
    "\n",
    "* Potete farlo da \"Esplora Risorse\" su Windows o Finder su OS X\n",
    "* ...Oppure dalla [home page di Jupiter](../tree)\n",
    "  - Prima usate il pulsante \"new\" per create un file di testo (`.txt`)\n",
    "  - Poi cambiatene il nome e dategli l'estensione `.py`\n",
    "  - Il nome deve essere un identificatore valido in Python"
   ]
  },
  {
   "cell_type": "markdown",
   "metadata": {
    "slideshow": {
     "slide_type": "subslide"
    }
   },
   "source": [
    "## Definire ed Utilizzare Moduli\n",
    "\n",
    "**Nel modulo, si può definire la funzione come al solito**\n",
    "\n",
    "* Per questa lezione, è già stato creato [un modulo \"esempio_modulo.py\"](../edit/esempio_modulo.py)\n",
    "* Potete aprirlo usando il link, oppure dall'home page di Jupyter\n",
    "* Potete verificare che contiene il codice della nostra funzione\n",
    "\n",
    "In particolare il contenuto del file è:\n",
    "\n",
    "```python\n",
    "def potenza(a, b):\n",
    "    return a**b\n",
    "```"
   ]
  },
  {
   "cell_type": "markdown",
   "metadata": {
    "slideshow": {
     "slide_type": "subslide"
    }
   },
   "source": [
    "## Definire ed Utilizzare Moduli\n",
    "\n",
    "**Il nostro obiettivo è chiamare la funzione da questo notebook**\n",
    "\n",
    "* Per farlo, dobbiamo dire all'interprete Python di utilizzare il modulo\n",
    "* Si usa l'istruzione `import`, con la sintassi:\n",
    "\n",
    "```\n",
    "import <nome modulo>\n",
    "```\n",
    "\n",
    "* Il nome del modulo coincide con il nome del file\n",
    "* ...Senza l'estensione `py`\n",
    "\n",
    "Nel nostro caso abbiamo:"
   ]
  },
  {
   "cell_type": "code",
   "execution_count": 2,
   "metadata": {},
   "outputs": [],
   "source": [
    "import esempio_modulo"
   ]
  },
  {
   "cell_type": "markdown",
   "metadata": {
    "slideshow": {
     "slide_type": "subslide"
    }
   },
   "source": [
    "## Definire ed Utilizzare Moduli\n",
    "\n",
    "**Ogni modulo definisce uno _spazio di nomi (namespace)_**\n",
    "\n",
    "...Ossia agisce come un contenitore di identificatori\n",
    "\n",
    "* La nostra funzione `potenza` è accessibile nel namespace `esempio_modulo`\n",
    "\n",
    "**Per accedere un namespace in Python, si usa la _notazione puntata_**\n",
    "\n",
    "La sintassi è:\n",
    "\n",
    "```python\n",
    "<namespace>.<identificatore>\n",
    "```\n",
    "\n",
    "Nel nostro esempio, avremo:"
   ]
  },
  {
   "cell_type": "code",
   "execution_count": 3,
   "metadata": {},
   "outputs": [
    {
     "data": {
      "text/plain": [
       "16"
      ]
     },
     "execution_count": 3,
     "metadata": {},
     "output_type": "execute_result"
    }
   ],
   "source": [
    "esempio_modulo.potenza(2, 4)"
   ]
  },
  {
   "cell_type": "markdown",
   "metadata": {},
   "source": [
    "**Con questo metodo possiamo usare `potenza` _da qualunque notebook_**"
   ]
  },
  {
   "cell_type": "markdown",
   "metadata": {
    "slideshow": {
     "slide_type": "subslide"
    }
   },
   "source": [
    "## Varianti di `import`\n",
    "\n",
    "**L'istruzione `import` ha alcune varianti**\n",
    "\n",
    "Per esempio, permette di _rinominare localmente il modulo_\n",
    "\n",
    "* Si usa la sintassi:\n",
    "\n",
    "```\n",
    "import <modulo> as <nome alternarnativo>\n",
    "```\n",
    "\n",
    "**Nel nostro caso possiamo usare per esempio**"
   ]
  },
  {
   "cell_type": "code",
   "execution_count": 4,
   "metadata": {},
   "outputs": [
    {
     "data": {
      "text/plain": [
       "16"
      ]
     },
     "execution_count": 4,
     "metadata": {},
     "output_type": "execute_result"
    }
   ],
   "source": [
    "import esempio_modulo as em\n",
    "\n",
    "em.potenza(2, 4)"
   ]
  },
  {
   "cell_type": "markdown",
   "metadata": {},
   "source": [
    "Si tratta di una funzionalità comoda per accorciare il nome di un modulo"
   ]
  },
  {
   "cell_type": "markdown",
   "metadata": {
    "slideshow": {
     "slide_type": "subslide"
    }
   },
   "source": [
    "## Ri-caricamento di Moduli\n",
    "\n",
    "**Quando un modulo viene importato**\n",
    "\n",
    "...L'interprete verifica se l'operazione non sia già stata fatta\n",
    "\n",
    "* Se il modulo non risulta già \"caricato\" si procede con l'importazione\n",
    "* ...Altrimenti non avviene nulla"
   ]
  },
  {
   "cell_type": "code",
   "execution_count": 5,
   "metadata": {},
   "outputs": [
    {
     "data": {
      "text/plain": [
       "16"
      ]
     },
     "execution_count": 5,
     "metadata": {},
     "output_type": "execute_result"
    }
   ],
   "source": [
    "import esempio_modulo as em\n",
    "\n",
    "em.potenza(2, 4)"
   ]
  },
  {
   "cell_type": "markdown",
   "metadata": {},
   "source": [
    "* Di solito si tratta di una funzionalità utile (fa risparmiare tempo)\n",
    "* ...Ma a tempo di sviluppo può causare problem\n",
    "\n",
    "Vediamo di capire quali e come risolverli..."
   ]
  },
  {
   "cell_type": "markdown",
   "metadata": {
    "slideshow": {
     "slide_type": "subslide"
    }
   },
   "source": [
    "## Ri-caricamento di Moduli\n",
    "\n",
    "**Provate ad eseguire la cella seguente:**"
   ]
  },
  {
   "cell_type": "code",
   "execution_count": 6,
   "metadata": {},
   "outputs": [
    {
     "data": {
      "text/plain": [
       "16"
      ]
     },
     "execution_count": 6,
     "metadata": {},
     "output_type": "execute_result"
    }
   ],
   "source": [
    "import esempio_modulo as em\n",
    "em.potenza(2, 4)"
   ]
  },
  {
   "cell_type": "markdown",
   "metadata": {},
   "source": [
    "Modificate ora il codice nel modulo come segue:\n",
    "\n",
    "```python\n",
    "def potenza(a, b):\n",
    "    return 2*a**b\n",
    "```\n",
    "\n",
    "Ripetete ora l'esecuzione della cella:"
   ]
  },
  {
   "cell_type": "code",
   "execution_count": 7,
   "metadata": {},
   "outputs": [
    {
     "data": {
      "text/plain": [
       "16"
      ]
     },
     "execution_count": 7,
     "metadata": {},
     "output_type": "execute_result"
    }
   ],
   "source": [
    "import esempio_modulo as em\n",
    "em.potenza(2, 4)"
   ]
  },
  {
   "cell_type": "markdown",
   "metadata": {},
   "source": [
    "**Il risultato non è cambiato!**"
   ]
  },
  {
   "cell_type": "markdown",
   "metadata": {
    "slideshow": {
     "slide_type": "subslide"
    }
   },
   "source": [
    "## Ri-caricamento di Moduli\n",
    "\n",
    "**Il risultato non è cambiato perché il modulo non è stato ri-caricato**\n",
    "\n",
    "* Possiamo risolvere il problema ri-caricando esplicitamente il modulo\n",
    "  - Esiste una funzione apposta in un modulo predefinito\n",
    "* ...Ma si tratta di una operazione scomoda\n",
    "\n",
    "**Durante lo svilppo è più facile usare una funzionalità extra di Jupyter**\n",
    "\n",
    "In particolare, useremo l'estensione _autoreload_"
   ]
  },
  {
   "cell_type": "code",
   "execution_count": 8,
   "metadata": {},
   "outputs": [],
   "source": [
    "%load_ext autoreload\n",
    "%autoreload 2"
   ]
  },
  {
   "cell_type": "markdown",
   "metadata": {},
   "source": [
    "* `%load_ext autoreload` prepare l'estensione autoreload\n",
    "* `%autoreload 2` la attiva\n",
    "* ...E la configura per ricaricare tutti i pacchetti prima dell'esecuzione"
   ]
  },
  {
   "cell_type": "markdown",
   "metadata": {
    "slideshow": {
     "slide_type": "subslide"
    }
   },
   "source": [
    "## Ri-caricamento di Moduli\n",
    "\n",
    "**Una volta che l'estensione è attiva**\n",
    "\n",
    "...Le modifiche ai moduli hanno effetto immediato in Jupyter"
   ]
  },
  {
   "cell_type": "code",
   "execution_count": 9,
   "metadata": {},
   "outputs": [
    {
     "data": {
      "text/plain": [
       "16"
      ]
     },
     "execution_count": 9,
     "metadata": {},
     "output_type": "execute_result"
    }
   ],
   "source": [
    "import esempio_modulo as em\n",
    "em.potenza(2, 4)"
   ]
  },
  {
   "cell_type": "markdown",
   "metadata": {},
   "source": [
    "* Utilizzeremo `autoreload` in tutti gli esercizi d'ora in avanti\n",
    "* ...Ma ricordate che per avere la massima performance, è bene disabilitarla"
   ]
  },
  {
   "cell_type": "markdown",
   "metadata": {
    "slideshow": {
     "slide_type": "slide"
    }
   },
   "source": [
    "\n",
    "# Moduli e Script"
   ]
  },
  {
   "cell_type": "markdown",
   "metadata": {
    "slideshow": {
     "slide_type": "subslide"
    }
   },
   "source": [
    "## Codice Libero in un Modulo\n",
    "\n",
    "**Eventuale _codice libero_ (non in una funzione) in un modulo**\n",
    "\n",
    "...Viene eseguito (come al solito) durante la `import`\n",
    "\n",
    "* Di solito lo si sfrutta per _definire variabili utili_\n",
    "* E.g., potremmo voler rendere disponibile non solo la funzione `potenza`\n",
    "* ...Ma anche la costante $e$\n",
    "\n",
    "**Il codice del modulo può essere modificato come segue:**\n",
    "\n",
    "```python\n",
    "def potenza(a, b):\n",
    "    return a**b\n",
    "\n",
    "e = 2.71828\n",
    "```\n",
    "\n",
    "Il codice modificato è disponibile in [esempio_modulo2.py](../edit/esempio_modulo2.py)"
   ]
  },
  {
   "cell_type": "markdown",
   "metadata": {
    "slideshow": {
     "slide_type": "subslide"
    }
   },
   "source": [
    "## Codice Libero in un Modulo\n",
    "\n",
    "**Quando importiamo il modulo**\n",
    "\n",
    "* L'istruzione `e = 2.71828` viene eseguita come al solito\n",
    "* ...E la variabile `e` diventa disponibile _all'interno del modulo:"
   ]
  },
  {
   "cell_type": "code",
   "execution_count": 15,
   "metadata": {},
   "outputs": [
    {
     "name": "stdout",
     "output_type": "stream",
     "text": [
      "e^2 =  7.3890461584\n"
     ]
    }
   ],
   "source": [
    "import esempio_modulo2\n",
    "\n",
    "res = esempio_modulo2.potenza(esempio_modulo2.e, 2)\n",
    "print('e^2 = ', res)"
   ]
  },
  {
   "cell_type": "markdown",
   "metadata": {},
   "source": [
    "Di solito si usa questa caratteristica per:\n",
    "\n",
    "* Definire variabili importanti\n",
    "* Eseguire codice di configurazione per il modulo"
   ]
  },
  {
   "cell_type": "markdown",
   "metadata": {
    "slideshow": {
     "slide_type": "subslide"
    }
   },
   "source": [
    "## Codice Libero in un Modulo\n",
    "\n",
    "**...Ma qualcuno l'ha usato anche per definire degli \"easter egg\"**\n",
    "\n",
    "Provate a _riavviare il kernel_ ed eseguire:"
   ]
  },
  {
   "cell_type": "code",
   "execution_count": 16,
   "metadata": {},
   "outputs": [
    {
     "name": "stdout",
     "output_type": "stream",
     "text": [
      "The Zen of Python, by Tim Peters\n",
      "\n",
      "Beautiful is better than ugly.\n",
      "Explicit is better than implicit.\n",
      "Simple is better than complex.\n",
      "Complex is better than complicated.\n",
      "Flat is better than nested.\n",
      "Sparse is better than dense.\n",
      "Readability counts.\n",
      "Special cases aren't special enough to break the rules.\n",
      "Although practicality beats purity.\n",
      "Errors should never pass silently.\n",
      "Unless explicitly silenced.\n",
      "In the face of ambiguity, refuse the temptation to guess.\n",
      "There should be one-- and preferably only one --obvious way to do it.\n",
      "Although that way may not be obvious at first unless you're Dutch.\n",
      "Now is better than never.\n",
      "Although never is often better than *right* now.\n",
      "If the implementation is hard to explain, it's a bad idea.\n",
      "If the implementation is easy to explain, it may be a good idea.\n",
      "Namespaces are one honking great idea -- let's do more of those!\n"
     ]
    }
   ],
   "source": [
    "import this"
   ]
  },
  {
   "cell_type": "markdown",
   "metadata": {
    "slideshow": {
     "slide_type": "subslide"
    }
   },
   "source": [
    "## Script\n",
    "\n",
    "**In generale, eseguire codice direttamente da un file può essere molto utile**\n",
    "\n",
    "* Jupyter è utilissimo per sperimentare\n",
    "* ...E per insegnare un nuovo linguaggio di programmazione\n",
    "\n",
    "**...Ma una volta che del codice è consolidato**\n",
    "\n",
    "* Dover avviare Jupyter ogni volta è scomodo\n",
    "* ...E richiede inoltra di aver installato Jupyter\n",
    "\n",
    "**Sarebbe molto meglio poter eseguire direttamente un file `.py`**\n",
    "\n",
    "* Un file pensato per questo scopo si chiama _script_\n",
    "* È identico (o quasi) ad un modulo con codice libero\n",
    "* Semplicemente, è pensato per essere eseguito da terminale"
   ]
  },
  {
   "cell_type": "markdown",
   "metadata": {
    "slideshow": {
     "slide_type": "subslide"
    }
   },
   "source": [
    "## Script\n",
    "\n",
    "**Nel file [esempio_script.py](../edit/esempio_script.py) trovate il codice:**\n",
    "\n",
    "```python\n",
    "def potenza(a, b):\n",
    "    return a**b\n",
    "\n",
    "e = 2.71828\n",
    "\n",
    "if __name__ == \"__main__\":\n",
    "    print(f'e^2 = {potenza(e, 2)}')\n",
    "```\n",
    "\n",
    "* `__name__` è una variabile che viene assegnata automaticamente dall'interprete\n",
    "* Quando si importa il modulo contiene una stringa con il nome del modulo\n",
    "* Quando si esegue un file `.py` da terminale, contiene la stringa `\"__main__\"`\n",
    "* Usando `if __name__ == \"__main__\"`:\n",
    "* ...Il codice nell'`if` viene eseguito _solo_ in caso di chiamata da terminale"
   ]
  },
  {
   "cell_type": "markdown",
   "metadata": {
    "slideshow": {
     "slide_type": "subslide"
    }
   },
   "source": [
    "## Script\n",
    "\n",
    "**Proviamo ad eseguire lo script**\n",
    "\n",
    "* Aprite un terminale nella cartella con lo script\n",
    "* ...Quindi eseguite il comando:\n",
    "\n",
    "```\n",
    "python esempio_script.py\n",
    "```\n",
    "\n",
    "Verrà stampato su terminale `e^2 = 7.3890461584`\n",
    "\n",
    "**Possiamo farlo ancha dall'interno di Jupyter**\n",
    "\n",
    "Si usa il comando:"
   ]
  },
  {
   "cell_type": "code",
   "execution_count": 17,
   "metadata": {},
   "outputs": [
    {
     "name": "stdout",
     "output_type": "stream",
     "text": [
      "e^2 = 7.3890461584\r\n"
     ]
    }
   ],
   "source": [
    "!python esempio_script.py"
   ]
  },
  {
   "cell_type": "markdown",
   "metadata": {},
   "source": [
    "* Il \"!\" dice a Juyter che il comando che segue va eseguito da terminale"
   ]
  },
  {
   "cell_type": "markdown",
   "metadata": {
    "slideshow": {
     "slide_type": "subslide"
    }
   },
   "source": [
    "## Script\n",
    "\n",
    "**Gli script sono il modo \"normale\" di eseguire codice Python**\n",
    "\n",
    "Ogni programma Python compiuto viene di solito eseguito come script:\n",
    "\n",
    "* Un server web\n",
    "* Un sistema di diagnostica predittiva in contesto industriale\n",
    "* Un sistema per il riconoscimento di immagini\n",
    "* ...\n",
    "\n",
    "Uno script può ricevere anche argomenti da linea di comando:\n",
    "\n",
    "* L'indirizzo web (URL) da esporre\n",
    "* L'identificativo del PLC da cui recupeare i valori dei sensori\n",
    "* La telecamera da utilizzare\n",
    "* ...\n",
    "\n",
    "**In questo corso, però, gli script saranno usati molto poco**"
   ]
  },
  {
   "cell_type": "markdown",
   "metadata": {
    "slideshow": {
     "slide_type": "slide"
    }
   },
   "source": [
    "# Pacchetti"
   ]
  },
  {
   "cell_type": "markdown",
   "metadata": {
    "slideshow": {
     "slide_type": "subslide"
    }
   },
   "source": [
    "## Moduli e Pacchetti\n",
    "\n",
    "**Più moduli possono essere ragruppati in un _pacchetto (package)_**\n",
    "\n",
    "* Un pacchetto è un contenitore di moduli\n",
    "* È implementato come una _directory_\n",
    "\n",
    "**Per definire un pacchetto**\n",
    "\n",
    "* Nella cartella corrente, va _creata una nuova cartella_\n",
    "  - Il nome della cartella deve essere un _identificatore valido_\n",
    "* Nella cartella va creato un file `__init__.py`\n",
    "  - Questo file viene eseguito quando il pacchetto viene \"importato\"\n",
    "  - Può essere anche vuoto\n",
    "  - È comunque necessario per indicare che la directory è un pacchetto"
   ]
  },
  {
   "cell_type": "markdown",
   "metadata": {
    "slideshow": {
     "slide_type": "subslide"
    }
   },
   "source": [
    "## Pacchetti\n",
    "\n",
    "**Un pacchetto di esempio è disponibile nella directory [esempio_pacchetto](esempio_pacchetto)**\n",
    "\n",
    "Contiene:\n",
    "\n",
    "* Un file `__init__.py` vuoto\n",
    "* Un modulo `esempio_modulo.py`\n",
    "\n",
    "**I pacchetti si possono importare esattamente come i moduli**"
   ]
  },
  {
   "cell_type": "code",
   "execution_count": 18,
   "metadata": {},
   "outputs": [],
   "source": [
    "import esempio_pacchetto"
   ]
  },
  {
   "cell_type": "markdown",
   "metadata": {},
   "source": [
    "* Quando si importa un pacchetto il suo file `__init__.py` viene eseguito\n",
    "* ...Ma i moduli contenuti non vengono automaticamente importati"
   ]
  },
  {
   "cell_type": "markdown",
   "metadata": {
    "slideshow": {
     "slide_type": "subslide"
    }
   },
   "source": [
    "## Pacchetti\n",
    "\n",
    "**Per importare un modulo da un pacchetto, occorre farlo esplicitamente**"
   ]
  },
  {
   "cell_type": "code",
   "execution_count": 19,
   "metadata": {},
   "outputs": [
    {
     "data": {
      "text/plain": [
       "16"
      ]
     },
     "execution_count": 19,
     "metadata": {},
     "output_type": "execute_result"
    }
   ],
   "source": [
    "import esempio_pacchetto.esempio_modulo\n",
    "\n",
    "esempio_pacchetto.esempio_modulo.potenza(2, 4)"
   ]
  },
  {
   "cell_type": "markdown",
   "metadata": {},
   "source": [
    "* Si usa la notazione puntata perché i pacchetti introducono un namespace\n",
    "\n",
    "**Per maggior leggibilità, si usa spesso l'istruzione `from ... import`**"
   ]
  },
  {
   "cell_type": "code",
   "execution_count": 20,
   "metadata": {},
   "outputs": [
    {
     "data": {
      "text/plain": [
       "16"
      ]
     },
     "execution_count": 20,
     "metadata": {},
     "output_type": "execute_result"
    }
   ],
   "source": [
    "from esempio_pacchetto import esempio_modulo\n",
    "\n",
    "esempio_modulo.potenza(2, 4)"
   ]
  },
  {
   "cell_type": "markdown",
   "metadata": {},
   "source": [
    "* In questo modo importiamo il modulo\n",
    "* ...Senza passare per il namespace del pacchetto"
   ]
  },
  {
   "cell_type": "markdown",
   "metadata": {
    "slideshow": {
     "slide_type": "subslide"
    }
   },
   "source": [
    "## Sottopacchetti\n",
    "\n",
    "**Un pacchetto può avere dei sottopacchetti**\n",
    "\n",
    "* Corrispondono semplicemente a delle sotto-directory\n",
    "* Introducono nei namespace, come al solito\n",
    "* Non richiedono di specificare un nuovo file `__init__.py`\n",
    "\n",
    "**Un esempio è disponibile nella cartella [esempio_pacchetto2](esempio_pacchetto2)**\n",
    "\n",
    "* Il pacchetto principale è vuoto (c'è solo `__init__.py`\n",
    "* Il sottopacchetto `esempio_sottopacchetto` contiene `esempio_modulo.py`"
   ]
  },
  {
   "cell_type": "code",
   "execution_count": 24,
   "metadata": {},
   "outputs": [
    {
     "data": {
      "text/plain": [
       "16"
      ]
     },
     "execution_count": 24,
     "metadata": {},
     "output_type": "execute_result"
    }
   ],
   "source": [
    "from esempio_pacchetto2.esempio_sottopacchetto import esempio_modulo as em\n",
    "\n",
    "em.potenza(2, 4)"
   ]
  },
  {
   "cell_type": "markdown",
   "metadata": {},
   "source": [
    "Per lavorare con i sottopacchetti si usa la notazione puntata, come al solito"
   ]
  },
  {
   "cell_type": "markdown",
   "metadata": {
    "slideshow": {
     "slide_type": "subslide"
    }
   },
   "source": [
    "## Compilazione Just in Time\n",
    "\n",
    "**I pacchetti vengono gestiti in modo speciale dall'interprete Python**\n",
    "\n",
    "* Anziché essere semplicemente interpretati\n",
    "* ...Vengono compilati al momento dell'importazione\n",
    "\n",
    "Il risultato della compilazione:\n",
    "\n",
    "* Viene inserito un una cartella `__pycache__` all'interno della directory\n",
    "* ...E consiste di uno o più file con estensione `.pyc`\n",
    "\n",
    "<br>\n",
    "\n",
    "**Si parte di _compilazione \"just in time\" (JIT)_**\n",
    "\n",
    "...Ossia fatta al momento del bisogno\n",
    "\n",
    "* La compilazione JIT introduce un po' di overhead al momento del caricamento\n",
    "* ...Ma permette di accelerare il tempo di esecuzione in seguito"
   ]
  },
  {
   "cell_type": "markdown",
   "metadata": {
    "slideshow": {
     "slide_type": "subslide"
    }
   },
   "source": [
    "## Pacchetti ed Ecosistema Python\n",
    "\n",
    "**Python ha moltissimi pacchetti pre-installati**\n",
    "\n",
    "* `math` per fare calcoli\n",
    "* `random` per generare numeri casuali\n",
    "* `os` per lavorare con i file\n",
    "* ...\n",
    "\n",
    "**In aggiunta, altri pacchetti sono installabili da collezioni centralizzate**\n",
    "\n",
    "Di solito, vengone gestiti mediante un programma detto package manager\n",
    "\n",
    "* `pip` per Python classico\n",
    "* `conda` per Anaconda\n",
    "\n",
    "Ci sono pacchetti per fare tantissime cose\n",
    "\n",
    "**Insieme formano il cosiddetto ecosistema Python**"
   ]
  }
 ],
 "metadata": {
  "celltoolbar": "Slideshow",
  "kernelspec": {
   "display_name": "Python 3 (ipykernel)",
   "language": "python",
   "name": "python3"
  },
  "language_info": {
   "codemirror_mode": {
    "name": "ipython",
    "version": 3
   },
   "file_extension": ".py",
   "mimetype": "text/x-python",
   "name": "python",
   "nbconvert_exporter": "python",
   "pygments_lexer": "ipython3",
   "version": "3.11.11"
  },
  "rise": {
   "center": false,
   "enable_chalkboard": true,
   "transition": "fade"
  }
 },
 "nbformat": 4,
 "nbformat_minor": 4
}
