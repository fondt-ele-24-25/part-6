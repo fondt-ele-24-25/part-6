{
 "cells": [
  {
   "cell_type": "markdown",
   "metadata": {
    "slideshow": {
     "slide_type": "slide"
    }
   },
   "source": [
    "# Derivazione Numerica"
   ]
  },
  {
   "cell_type": "markdown",
   "metadata": {
    "slideshow": {
     "slide_type": "subslide"
    }
   },
   "source": [
    "## Derivazione Numerica\n",
    "\n",
    "**Supponiamo di voler _approssimare la derivata di una funzione $f: \\mathbb{R} \\to \\mathbb{R}$_**\n",
    "\n",
    "Sappiano che la derivata è definita come segue:\n",
    "\n",
    "$$\n",
    "\\frac{df}{dx}(x) = \\lim_{\\varepsilon \\to 0} \\frac{f(x+\\varepsilon) - f(x)}{\\varepsilon}\n",
    "$$\n",
    "\n",
    "Se scegliamo un valore di $\\varepsilon$ piuttosto piccolo (diciamo $\\hat{\\varepsilon}$) avremo che:\n",
    "\n",
    "$$\n",
    "\\frac{df}{dx}(x) \\simeq \\frac{f(x+\\hat{\\varepsilon}) - f(x)}{\\hat{\\varepsilon}}\n",
    "$$\n",
    "\n",
    "* L'espressione a dx è facilmente calcolabile\n",
    "* ...A meno di [problemi numerici](https://en.wikipedia.org/wiki/Numerical_differentiation), che però non approfondiremo\n",
    "\n",
    "In pratica si usano formule più numericamente stabili, ma a noi questa andrà bene"
   ]
  },
  {
   "cell_type": "markdown",
   "metadata": {
    "slideshow": {
     "slide_type": "subslide"
    }
   },
   "source": [
    "## Derivazione Numerica\n",
    "\n",
    "**L'approccio è valido per qualunque funzione**\n",
    "\n",
    "...Per cui possiamo definire una procedura generica:"
   ]
  },
  {
   "cell_type": "code",
   "execution_count": 1,
   "metadata": {},
   "outputs": [],
   "source": [
    "def num_der1(x, f, eps=1e-9):\n",
    "    return (f(x + eps) - f(x)) / eps"
   ]
  },
  {
   "cell_type": "markdown",
   "metadata": {},
   "source": [
    "* `x` rappresenta il punto per cui vogliamo calcolare la derivata\n",
    "* `f` dovrà contenere la funzione da derivare\n",
    "* `eps` è la differenza da usare per il calcolo approssimato"
   ]
  },
  {
   "cell_type": "markdown",
   "metadata": {
    "slideshow": {
     "slide_type": "subslide"
    }
   },
   "source": [
    "## Derivazione Numerica\n",
    "\n",
    "**Al momento della chiamata possiamo decidere:**\n",
    "\n",
    "* Per quale _punto_ calcolare la derivata (scegliendo cosa passare in `x`)\n",
    "* Per quale _funzione_ calcolare la derivata (scegliendo code passare in `f`)"
   ]
  },
  {
   "cell_type": "code",
   "execution_count": 2,
   "metadata": {},
   "outputs": [
    {
     "name": "stdout",
     "output_type": "stream",
     "text": [
      "3.7560496934929684\n",
      "3.6439180561842472\n",
      "2.2232444774061833\n"
     ]
    }
   ],
   "source": [
    "import math\n",
    "\n",
    "def num_der1(x, f, eps=1e-9):\n",
    "    return (f(x + eps) - f(x)) / eps\n",
    "\n",
    "def f1(x):\n",
    "    return math.exp(x) * math.sin(x)\n",
    "\n",
    "def f2(x):\n",
    "    return x**2 * math.sin(x)\n",
    "\n",
    "print(num_der1(1, f=f1))\n",
    "print(num_der1(2, f=f1))\n",
    "print(num_der1(1, f=f2))"
   ]
  },
  {
   "cell_type": "markdown",
   "metadata": {
    "slideshow": {
     "slide_type": "subslide"
    }
   },
   "source": [
    "## Esercizio: Derivazione Numerica\n",
    "\n",
    "**Si desidera definire un modulo con funzioni per derivazione numerica**\n",
    "\n",
    "* Per prima cosa, si proceda a creare il modulo `num_der` nel pacchetto `sol`\n",
    "  - Per farlo, creare la cartella `sol` (se non ancora esistente)\n",
    "  - Quindi, creare al suo interno un file di nome `__init__.py` (se non ancora esistente)\n",
    "  - Infine, creare all'interno di `sol` il file `num_der.py`\n",
    "* Per comodità, si abiliti l'estensione `autoreaload` di Jupyter "
   ]
  },
  {
   "cell_type": "code",
   "execution_count": 3,
   "metadata": {},
   "outputs": [],
   "source": [
    "%load_ext autoreload\n",
    "%autoreload 2"
   ]
  },
  {
   "cell_type": "markdown",
   "metadata": {
    "slideshow": {
     "slide_type": "subslide"
    }
   },
   "source": [
    "## Esercizio: Derivazione Numerica\n",
    "\n",
    "**Nel modulo `sol.num_der`, si definisca la funzione:**\n",
    "\n",
    "```python\n",
    "def num_der1(x, f, eps=1e-9)\n",
    "```\n",
    "\n",
    "La funzione deve approssimare la derivata usando la formula:\n",
    "\n",
    "$$\n",
    "\\frac{f(x+\\varepsilon) - f(x)}{\\varepsilon}\n",
    "$$\n",
    "\n",
    "Si collaudi la funzione nella cella seguente:\n",
    "\n",
    "* Se ne verifichi il funzionamento per $x \\in \\{1, 2, 3\\}$\n",
    "* Come funzioni da derivare si utilizzino:\n",
    "  - $f1(x) = x \\sin(x)$\n",
    "  - $f2(x) = x \\cos(x)$\n",
    "* Le due funzioni _non_ vanno definite nel modulo `sol.num_der`\n",
    "* ...E per questa ragione sono già fornite nella cella\n",
    "  \n",
    "  \n",
    "Per semplicità, si utilizzi per `num_der1` il codice fornito in precedenza"
   ]
  },
  {
   "cell_type": "code",
   "execution_count": null,
   "metadata": {},
   "outputs": [],
   "source": []
  },
  {
   "cell_type": "markdown",
   "metadata": {
    "slideshow": {
     "slide_type": "subslide"
    }
   },
   "source": [
    "## Esercizio: Derivazione Numerica (2)\n",
    "\n",
    "**Nel modulo `sol.num_der`, si definisca la funzione:**\n",
    "\n",
    "```python\n",
    "def num_der2(x, f, eps=1e-9)\n",
    "```\n",
    "\n",
    "La funzione deve approssimare la derivata usando la formula:\n",
    "\n",
    "$$\n",
    "\\frac{f(x+0.5\\varepsilon) - f(x-0.5\\varepsilon)}{\\varepsilon}\n",
    "$$\n",
    "\n",
    "Si collaudi la funzione nella cella seguente:\n",
    "\n",
    "* Se ne verifichi il funzionamento per $x \\in \\{1, 2, 3\\}$\n",
    "* Come funzioni da derivare si utilizzino:\n",
    "  - $f1(x) = x^2 \\sin(x)$\n",
    "  - $f2(x) = x^2 \\cos(x)$\n",
    "* Le due funzioni _non_ vanno definite nel modulo `sol.num_der`\n",
    "* Le si definisca insieme nella cella seguente insieme al codice di collaudo"
   ]
  },
  {
   "cell_type": "code",
   "execution_count": null,
   "metadata": {},
   "outputs": [],
   "source": []
  }
 ],
 "metadata": {
  "celltoolbar": "Slideshow",
  "kernelspec": {
   "display_name": "Python 3 (ipykernel)",
   "language": "python",
   "name": "python3"
  },
  "language_info": {
   "codemirror_mode": {
    "name": "ipython",
    "version": 3
   },
   "file_extension": ".py",
   "mimetype": "text/x-python",
   "name": "python",
   "nbconvert_exporter": "python",
   "pygments_lexer": "ipython3",
   "version": "3.11.11"
  },
  "rise": {
   "center": false,
   "enable_chalkboard": true,
   "transition": "fade"
  }
 },
 "nbformat": 4,
 "nbformat_minor": 4
}
